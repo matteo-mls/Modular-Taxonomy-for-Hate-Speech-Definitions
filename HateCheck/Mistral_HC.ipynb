{
 "cells": [
  {
   "cell_type": "code",
   "execution_count": 4,
   "id": "6ca43074-d578-4482-8595-630f612f7d33",
   "metadata": {
    "tags": []
   },
   "outputs": [],
   "source": [
    "import pandas as pd\n",
    "import torch\n",
    "import gc\n",
    "from numba import cuda\n",
    "from tqdm import tqdm\n",
    "import json\n",
    "from datasets import Dataset\n",
    "import sys\n",
    "import re\n",
    "import numpy as np\n",
    "from sklearn.metrics import precision_score, recall_score, f1_score\n",
    "import random\n",
    "import outlines\n",
    "\n",
    "from transformers import AutoTokenizer\n",
    "from transformers import TrainingArguments, Trainer\n",
    "from transformers import TextClassificationPipeline\n",
    "from transformers import AutoTokenizer,AutoModelForSequenceClassification\n",
    "from transformers import TrainingArguments\n",
    "from transformers import AutoModelForCausalLM\n",
    "from transformers import AutoModelForSeq2SeqLM\n",
    "from transformers import Seq2SeqTrainer, Seq2SeqTrainingArguments\n",
    "from transformers import pipeline as transformers_pipeline"
   ]
  },
  {
   "cell_type": "code",
   "execution_count": null,
   "id": "02ee5eac-88df-4ae8-8d1f-e7c4cfadb42f",
   "metadata": {},
   "outputs": [
    {
     "name": "stdout",
     "output_type": "stream",
     "text": [
      "Dataset({\n",
      "    features: ['case_id', 'text', 'label', 'target', 'direction', 'functionality'],\n",
      "    num_rows: 3901\n",
      "})\n"
     ]
    }
   ],
   "source": [
    "#IMPORT AND PREPARE DATASET\n",
    "\n",
    "path = \"\"  # Replace with your dataset path\n",
    "\n",
    "\n",
    "ds = pd.read_csv(path)\n",
    "\n",
    "ds = ds.rename(columns={'test_case': 'text', 'label_gold': 'label', 'target_ident': 'target'})\n",
    "selected_columns = ['case_id', 'text', 'label', 'target','direction','functionality']\n",
    "dss = ds[selected_columns]\n",
    "\n",
    "dataset = Dataset.from_pandas(dss)\n",
    "dataset = dataset.shuffle()\n",
    "print(dataset)\n"
   ]
  },
  {
   "cell_type": "code",
   "execution_count": null,
   "id": "898df6de-b398-4e08-86b9-c466aa2efab9",
   "metadata": {},
   "outputs": [
    {
     "data": {
      "application/vnd.jupyter.widget-view+json": {
       "model_id": "e33fd20a36d94d22a3100efc29a426af",
       "version_major": 2,
       "version_minor": 0
      },
      "text/plain": [
       "Loading checkpoint shards:   0%|          | 0/3 [00:00<?, ?it/s]"
      ]
     },
     "metadata": {},
     "output_type": "display_data"
    }
   ],
   "source": [
    "hf_token = \"\"\n",
    "model_name = \"mistralai/Mistral-7B-Instruct-v0.2\"\n",
    "model = outlines.models.transformers(\"mistralai/Mistral-7B-Instruct-v0.2\",device=\"auto\")\n",
    "tokenizer = AutoTokenizer.from_pretrained(model_name, token=hf_token)\n",
    "\n"
   ]
  },
  {
   "cell_type": "code",
   "execution_count": null,
   "id": "158df0f2-306f-4c37-a0da-d8dacf4d517c",
   "metadata": {
    "tags": []
   },
   "outputs": [],
   "source": [
    "#IMPORT DEFINTIONS - STEP 1\n",
    "def_step1 = {   \"NO\":\"\",\n",
    "                \"HateCheck\":\"Hate speech is abuse that is targeted at a protected group or at its members for being a part of that group. Protected groups are defined based on age, disability, gender identity, familial status, pregnancy, race, national or ethnic origins, religion, sex or sexual orientation, which broadly reflects international legal consensus (particularly the UK’s 2010 Equality Act, the US 1964 Civil Rights Act, and the EU’s Charter of Fundamental Rights).\",\n",
    "                \"OL\":\"Hate Speech is considered any kind of content that conveys malevolent intentions toward a group or an individual.\",\n",
    "                \"HSB\":\"Hate speech is considered any kind of content that conveys malevolent intentions toward a group or an individual, and motivated by inherent characteristics that are attributed to that group and shared among its members.\",\n",
    "                \"HSB_EDFoC\":\"Hate speech is considered any kind of content or communication expressed using language (written or spoken) or actions,  that convey malevolent intentions toward a group or an individual, and motivated by inherent characteristics that are attributed to that group and shared among its members.\",\n",
    "                \"HSB_EDPC\":\"Hate speech is considered any kind of content that conveys malevolent intentions such as statements of inferiority, aversion, cursing, calls for exclusion, threaten, harass or violence, toward a group or an individual, and motivated by inherent characteristics that are attributed to that group and shared among its members.\",\n",
    "                \"HSB_EDT\":\"Hate speech is considered any kind of content that conveys malevolent intentions toward a group or an individual which is, or thought to be, a member of that group, and motivated by inherent characteristics that are attributed to that group and shared among its members.\",\n",
    "                \"HSB_EDFoC_EDT\":\"Hate speech is considered any kind of content or communication expressed using language (written or spoken) or actions,  that convey malevolent intentions toward a group or an individual which is, or thought to be, a member of that group, and motivated by inherent characteristics that are attributed to that group and shared among its members.\",\n",
    "                \"HSB_EDFoC_EDPC\":\"Hate speech is considered any kind of content or communication expressed using language (written or spoken) or actions, that convey malevolent intentions such as statements of inferiority, aversion, cursing, calls for exclusion, threaten, harass or violence, toward a group or an individual and motivated by inherent characteristics that are attributed to that group and shared among its members.\",\n",
    "                \"HSB_EDT_EDPC\":\"Hate speech is considered any kind of content that conveys malevolent intentions such as statements of inferiority, aversion, cursing, calls for exclusion, threaten, harass or violence, toward a group or an individual which is, or thought to be, a member of that group, and motivated by inherent characteristics that are attributed to that group and shared among its members.\",\n",
    "                \"HSB_EDFoC_EDPC_EDT\":\"Hate speech is considered any kind of content or communication expressed using language (written or spoken) or actions,  that conveys malevolent intentions such as statements of inferiority, aversion, cursing, calls for exclusion, threaten, harass or violence, toward a group or an individual which is, or thought to be, a member of that group, and motivated by inherent characteristics that are attributed to that group and shared among its members.\"\n",
    "                }\n",
    "\n",
    "\n",
    "\n",
    "def_step2 = {\"HSB_LAA\":\"Hate speech is considered any kind of content that conveys malevolent intentions toward a group or an individual, and motivated by inherent characteristics that are attributed to that group and shared among its members such as race, color, ethnicity, gender, sexual orientation, nationality, religion, disability, social status, health conditions, or other characteristics. \",\n",
    "             \"HSB_LAA_PI\":\"Hate speech is considered any kind of content that conveys malevolent intentions toward a group or an individual, and motivated by inherent characteristics that are attributed to that group and shared among its members such as race, color, ethnicity, gender, sexual orientation, nationality, religion, disability, social status, health conditions, or other characteristics. The outcome of Hate Speech could be the promotion of division among people, undermining of social cohesion in communities, inciting others to commit violence or discrimination, and could have consequences for individuals’ health and safety.\",\n",
    "             \"HSB_LAA_Exc\":\"Hate speech is considered any kind of content that conveys malevolent intentions toward a group or an individual, and motivated by inherent characteristics that are attributed to that group and shared among its members such as race, cxolor, ethnicity, gender, sexual orientation, nationality, religion, disability, social status, health conditions, or other characteristics. However, even if it is offensive, it is not considered Hate Speech any content that attacks a person’s personality traits, ideas, or opinions\",\n",
    "             \"HSB_LAA_IHS\":\"Hate speech is considered any kind of content that conveys malevolent intentions toward a group or an individual and motivated by inherent characteristics that are attributed to that group and shared among its members such as race, color, ethnicity, gender, sexual orientation, nationality, religion, disability, social status, health conditions, or other characteristics. Hate Speech can also be implicit, portrayed as an indirect or coded language that uses Irony, Stereotypes, or Misinformation. \",\n",
    "             \"HSB_LAA_PI_Exc\":\"Hate speech is considered any kind of content that conveys malevolent intentions toward a group or an individual, and motivated by inherent characteristics that are attributed to that group and shared among its members such as race, color, ethnicity, gender, sexual orientation, nationality, religion, disability, social status, health conditions, or other characteristics. The outcome of Hate Speech could be the promotion of division among people, undermining of social cohesion in communities, inciting others to commit violence or discrimination, and could have consequences for individuals’ health and safety. However, even if it is offensive, it is not considered Hate Speech any content that attacks a person’s personality traits, ideas, or opinions.\",\n",
    "             \"HSB_LAA_Exc_IHS\":\"Hate speech is considered any kind of content that conveys malevolent intentions toward a group or an individual, and motivated by inherent characteristics that are attributed to that group and shared among its members such as race, color, ethnicity, gender, sexual orientation, nationality, religion, disability, social status, health conditions, or other characteristics. Hate Speech can also be implicit, portrayed as an indirect or coded language that uses Irony, Stereotypes, or Misinformation. However, even if it is offensive, it is not considered Hate Speech any content that attacks a person’s personality traits, ideas, or opinions. \",\n",
    "             \"HSB_LAA_PI_IHS\":\"Hate speech is considered any kind of content that conveys malevolent intentions toward a group or an individual, and motivated by inherent characteristics that are attributed to that group and shared among its members such as race, color, ethnicity, gender, sexual orientation, nationality, religion, disability, social status, health conditions, or other characteristics. The outcome of Hate Speech could be the promotion of division among people, undermining of social cohesion in communities, inciting others to commit violence or discrimination, and could have consequences for individuals’ health and safety. Hate Speech can also be implicit, portrayed as an indirect or coded language that uses Irony, Stereotypes, or Misinformation. \",\n",
    "             \"HSB_LAA_PI_IHS_Exc\":\"Hate speech is considered any kind of content that conveys malevolent intentions toward a group or an individual, and motivated by inherent characteristics that are attributed to that group and shared among its members such as race, color, ethnicity, gender, sexual orientation, nationality, religion, disability, social status, health conditions, or other characteristics. The outcome of Hate Speech could be the promotion of division among people, undermining of social cohesion in communities, inciting others to commit violence or discrimination, and could have consequences for individuals’ health and safety. Hate Speech can also be implicit, portrayed as an indirect or coded language that uses Irony, Stereotypes, or Misinformation. However, even if it is offensive, it is not considered Hate Speech any content that attacks a person’s personality traits, ideas, or opinions.\"\n",
    "}\n",
    "\n"
   ]
  },
  {
   "cell_type": "code",
   "execution_count": null,
   "id": "35135350-b865-43c9-a03e-c178e44a223f",
   "metadata": {},
   "outputs": [],
   "source": [
    "\n",
    "model_inputs = []\n",
    "labels = []\n",
    "\n",
    "instructions = \"Classify if the following text is considered hate speech or not hate speech:\\n\"\\\n",
    "              \"[TEXT]\\n\"\\\n",
    "              \"Please answer ONLY with 1 if it is hate speech or 0 if it is not hate speech.\"\n",
    "\n",
    "for datapoint in tqdm(dataset):\n",
    "    model_input = instructions\n",
    "    model_input = model_input.replace(\"[TEXT]\", datapoint['text'])\n",
    "    if datapoint['label'] == 'hateful':\n",
    "        labels.append(1)\n",
    "    else:\n",
    "        labels.append(0)\n",
    "    model_inputs.append(model_input)\n",
    "print(model_inputs[1])"
   ]
  },
  {
   "cell_type": "code",
   "execution_count": null,
   "id": "e8bd460c-e743-4cc9-8e89-800747203474",
   "metadata": {
    "tags": []
   },
   "outputs": [],
   "source": [
    "def metriche(predictions,labels):\n",
    "\n",
    "    precision = precision_score(labels, predictions, average='binary', zero_division=0)\n",
    "    recall = recall_score(labels, predictions, average='binary', zero_division=0)\n",
    "    f1 = f1_score(labels, predictions, average='macro', zero_division=0)\n",
    "    \n",
    "    return precision, recall, f1\n",
    "    "
   ]
  },
  {
   "cell_type": "code",
   "execution_count": null,
   "id": "5bdff058-220a-4bba-b297-802316552c3c",
   "metadata": {
    "tags": []
   },
   "outputs": [],
   "source": [
    "def runner(model_inputs, labels, num_runs, id_def, definition, sample):\n",
    "    results = []\n",
    "\n",
    "    for j in range(num_runs):  \n",
    "        if sample == 'all' or sample >= 3901:\n",
    "            sample = 3901\n",
    "        else:\n",
    "            model_inputs = model_inputs[:sample]\n",
    "            labels = labels[:sample]\n",
    "\n",
    "        completions = []\n",
    "        responses = []\n",
    "        predictions = []\n",
    "        system_prompt = ''\n",
    "        model_prompt = \"<s>[INST] [SYSTEM_PROMPT] [USER_MESSAGE] [/INST]\" #mistral\n",
    "\n",
    "        \n",
    "        for i, inputtone in enumerate(tqdm(model_inputs)): \n",
    "            if id_def == 'NO':\n",
    "                tot_in = inputtone\n",
    "            else:\n",
    "                tot_in = 'Given the following definition of Hate Speech: \\n' + str(definition) +'\\n' + inputtone\n",
    "\n",
    "            model_in = model_prompt.replace(\"[SYSTEM_PROMPT]\", system_prompt)\n",
    "            model_in = model_in.replace(\"[USER_MESSAGE]\", tot_in)\n",
    "\n",
    "            generator = outlines.generate.choice(model, [\"1\", \"0\"])\n",
    "            answer = generator(model_in, max_tokens = 3)\n",
    "    \n",
    "            predictions.append(int(answer))\n",
    "\n",
    "        num = j+1\n",
    "        print('Run number:', num, 'With definition: ', id_def)     \n",
    "        numeratore = sum(1 for p,l in zip(predictions,labels) if str(p) == str(l))\n",
    "        denominatore = len(predictions)\n",
    "        acc = numeratore/denominatore\n",
    "        precision, recall, f1 = metriche(predictions, labels)\n",
    "        print('Accuracy: ',acc)\n",
    "        print('Precision: ',precision)\n",
    "        print('Recall: ',recall)\n",
    "        print('F1 Score: ',f1)\n",
    "        results.append({'Run': num,\n",
    "                        'Model': model_name, \n",
    "                        'ID_def': id_def,\n",
    "                        'Accuracy': acc, \n",
    "                        'Precision': precision, \n",
    "                        'Recall': recall, \n",
    "                        'F1': f1 ,\n",
    "                        'Input': dataset['text'],\n",
    "                        'Predictions': predictions, \n",
    "                        'Labels': labels, \n",
    "                        'Definition': definition,\n",
    "                        'Target': dataset['target'],\n",
    "                        'Direction': dataset['direction'],\n",
    "                        'Functionality': dataset['functionality']})\n",
    "\n",
    "        \n",
    "    return results\n"
   ]
  },
  {
   "cell_type": "code",
   "execution_count": null,
   "id": "ca09d5b2-6620-4320-b8d2-c021516e3095",
   "metadata": {},
   "outputs": [],
   "source": [
    "sample = 'all' #select a number of samples or \"all\" for the whole dataset\n",
    "num_runs = 3 #number of iterations \n",
    "step = '1' # 1 for step 1, 2 for step 2\n",
    "\n",
    "\n",
    "results = []\n",
    "\n",
    "if step == '1':\n",
    "    def_dict = def_step1\n",
    "    step_name = 'step1'\n",
    "elif step == '2':\n",
    "    def_dict = def_step2\n",
    "    step_name = 'step2'\n",
    "\n",
    "    \n",
    "for k, v in def_dict.items():\n",
    "    def_id = k\n",
    "    definition = v\n",
    "    result = runner(model_inputs, labels, num_runs=num_runs, id_def=def_id, definition=definition, sample=sample)\n",
    "    results.extend(result) "
   ]
  },
  {
   "cell_type": "code",
   "execution_count": null,
   "id": "e33c6940-9c44-4ed1-b121-1a7f52d38fee",
   "metadata": {
    "tags": []
   },
   "outputs": [],
   "source": [
    "#CREATE DF AND SAVE\n",
    "df = pd.DataFrame(results)\n",
    "\n",
    "csv_file_path = '../Output/Mistral_HC_'+ step_name + '.csv'\n",
    "\n",
    "df.to_csv(csv_file_path, index=False)  \n"
   ]
  },
  {
   "cell_type": "code",
   "execution_count": null,
   "id": "02e3aadc-2064-4c50-8e98-fcbf84f344f3",
   "metadata": {},
   "outputs": [],
   "source": []
  }
 ],
 "metadata": {
  "kernelspec": {
   "display_name": "Python 3 (ipykernel)",
   "language": "python",
   "name": "python3"
  },
  "language_info": {
   "codemirror_mode": {
    "name": "ipython",
    "version": 3
   },
   "file_extension": ".py",
   "mimetype": "text/x-python",
   "name": "python",
   "nbconvert_exporter": "python",
   "pygments_lexer": "ipython3",
   "version": "3.11.11"
  }
 },
 "nbformat": 4,
 "nbformat_minor": 5
}
