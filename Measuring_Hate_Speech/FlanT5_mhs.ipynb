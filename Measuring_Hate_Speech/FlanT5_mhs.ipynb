{
 "cells": [
  {
   "cell_type": "code",
   "execution_count": 1,
   "id": "2983f3cc-f5c8-40ca-accb-930f3e15ae95",
   "metadata": {},
   "outputs": [
    {
     "name": "stderr",
     "output_type": "stream",
     "text": [
      "2024-12-20 09:00:16.968237: E external/local_xla/xla/stream_executor/cuda/cuda_fft.cc:477] Unable to register cuFFT factory: Attempting to register factory for plugin cuFFT when one has already been registered\n",
      "WARNING: All log messages before absl::InitializeLog() is called are written to STDERR\n",
      "E0000 00:00:1734685216.984107 1872806 cuda_dnn.cc:8310] Unable to register cuDNN factory: Attempting to register factory for plugin cuDNN when one has already been registered\n",
      "E0000 00:00:1734685216.988814 1872806 cuda_blas.cc:1418] Unable to register cuBLAS factory: Attempting to register factory for plugin cuBLAS when one has already been registered\n",
      "2024-12-20 09:00:17.009574: I tensorflow/core/platform/cpu_feature_guard.cc:210] This TensorFlow binary is optimized to use available CPU instructions in performance-critical operations.\n",
      "To enable the following instructions: AVX2 FMA, in other operations, rebuild TensorFlow with the appropriate compiler flags.\n"
     ]
    }
   ],
   "source": [
    "import pandas as pd\n",
    "import torch\n",
    "import gc\n",
    "from numba import cuda\n",
    "from tqdm import tqdm\n",
    "import json\n",
    "from datasets import Dataset\n",
    "import sys\n",
    "import re\n",
    "import numpy as np\n",
    "from sklearn.metrics import precision_score, recall_score, f1_score\n",
    "import random\n",
    "\n",
    "from transformers import AutoTokenizer\n",
    "from transformers import TrainingArguments, Trainer\n",
    "from transformers import TextClassificationPipeline\n",
    "from transformers import AutoTokenizer,AutoModelForSequenceClassification\n",
    "from transformers import TrainingArguments\n",
    "from transformers import AutoModelForCausalLM\n",
    "from transformers import AutoModelForSeq2SeqLM\n",
    "from transformers import Seq2SeqTrainer, Seq2SeqTrainingArguments\n",
    "from transformers import pipeline as transformers_pipeline\n",
    "from transformers import T5Tokenizer, T5ForConditionalGeneration\n"
   ]
  },
  {
   "cell_type": "code",
   "execution_count": null,
   "id": "3dd02988-942b-48a9-841b-b26ffb8dbcfe",
   "metadata": {},
   "outputs": [
    {
     "name": "stdout",
     "output_type": "stream",
     "text": [
      "Dataset({\n",
      "    features: ['Id', 'Text', 'Label'],\n",
      "    num_rows: 3901\n",
      "})\n"
     ]
    }
   ],
   "source": [
    "#IMPORT AND PREPARE DATASET\n",
    "\n",
    "path = \"\"  # Replace with your dataset path\n",
    "ds = pd.read_csv(path)\n",
    "\n",
    "dataset = Dataset.from_pandas(ds)\n",
    "\n",
    "print(dataset)"
   ]
  },
  {
   "cell_type": "code",
   "execution_count": 3,
   "id": "392b2a54-8985-49ac-8e5a-fb32641f465d",
   "metadata": {},
   "outputs": [
    {
     "data": {
      "application/vnd.jupyter.widget-view+json": {
       "model_id": "4c10c23682d146f4b62931e56e6df3fc",
       "version_major": 2,
       "version_minor": 0
      },
      "text/plain": [
       "config.json:   0%|          | 0.00/1.44k [00:00<?, ?B/s]"
      ]
     },
     "metadata": {},
     "output_type": "display_data"
    },
    {
     "data": {
      "application/vnd.jupyter.widget-view+json": {
       "model_id": "b0a06468ece54f159d0c3116df8b8385",
       "version_major": 2,
       "version_minor": 0
      },
      "text/plain": [
       "model.safetensors.index.json:   0%|          | 0.00/53.0k [00:00<?, ?B/s]"
      ]
     },
     "metadata": {},
     "output_type": "display_data"
    },
    {
     "data": {
      "application/vnd.jupyter.widget-view+json": {
       "model_id": "435eef1aa20d4d6ea5ce9c8f2384dc8f",
       "version_major": 2,
       "version_minor": 0
      },
      "text/plain": [
       "Downloading shards:   0%|          | 0/2 [00:00<?, ?it/s]"
      ]
     },
     "metadata": {},
     "output_type": "display_data"
    },
    {
     "data": {
      "application/vnd.jupyter.widget-view+json": {
       "model_id": "8f6469e73f2e4b21be98305f82e0b2c1",
       "version_major": 2,
       "version_minor": 0
      },
      "text/plain": [
       "model-00001-of-00002.safetensors:   0%|          | 0.00/9.45G [00:00<?, ?B/s]"
      ]
     },
     "metadata": {},
     "output_type": "display_data"
    },
    {
     "data": {
      "application/vnd.jupyter.widget-view+json": {
       "model_id": "c784500a0c9a4a6da29580635433428c",
       "version_major": 2,
       "version_minor": 0
      },
      "text/plain": [
       "model-00002-of-00002.safetensors:   0%|          | 0.00/1.95G [00:00<?, ?B/s]"
      ]
     },
     "metadata": {},
     "output_type": "display_data"
    },
    {
     "data": {
      "application/vnd.jupyter.widget-view+json": {
       "model_id": "c13f4b87af3644508e43fb4e18d94f50",
       "version_major": 2,
       "version_minor": 0
      },
      "text/plain": [
       "Loading checkpoint shards:   0%|          | 0/2 [00:00<?, ?it/s]"
      ]
     },
     "metadata": {},
     "output_type": "display_data"
    },
    {
     "data": {
      "application/vnd.jupyter.widget-view+json": {
       "model_id": "8cd7722048b042818c5762f36166fcee",
       "version_major": 2,
       "version_minor": 0
      },
      "text/plain": [
       "generation_config.json:   0%|          | 0.00/147 [00:00<?, ?B/s]"
      ]
     },
     "metadata": {},
     "output_type": "display_data"
    },
    {
     "data": {
      "application/vnd.jupyter.widget-view+json": {
       "model_id": "768ad2428aa2409a862b4fdf80bc90b6",
       "version_major": 2,
       "version_minor": 0
      },
      "text/plain": [
       "tokenizer_config.json:   0%|          | 0.00/2.54k [00:00<?, ?B/s]"
      ]
     },
     "metadata": {},
     "output_type": "display_data"
    },
    {
     "data": {
      "application/vnd.jupyter.widget-view+json": {
       "model_id": "9d83a5b4a6064bf984dc9e671f000a23",
       "version_major": 2,
       "version_minor": 0
      },
      "text/plain": [
       "spiece.model:   0%|          | 0.00/792k [00:00<?, ?B/s]"
      ]
     },
     "metadata": {},
     "output_type": "display_data"
    },
    {
     "data": {
      "application/vnd.jupyter.widget-view+json": {
       "model_id": "0f71de25d69b49d3a31dd84a165d1a07",
       "version_major": 2,
       "version_minor": 0
      },
      "text/plain": [
       "tokenizer.json:   0%|          | 0.00/2.42M [00:00<?, ?B/s]"
      ]
     },
     "metadata": {},
     "output_type": "display_data"
    },
    {
     "data": {
      "application/vnd.jupyter.widget-view+json": {
       "model_id": "de5f6a4f77ad428bb9aac5866bbe8a64",
       "version_major": 2,
       "version_minor": 0
      },
      "text/plain": [
       "special_tokens_map.json:   0%|          | 0.00/2.20k [00:00<?, ?B/s]"
      ]
     },
     "metadata": {},
     "output_type": "display_data"
    }
   ],
   "source": [
    "from transformers import T5Tokenizer, T5ForConditionalGeneration\n",
    "\n",
    "model = AutoModelForSeq2SeqLM.from_pretrained('google/flan-t5-xl',device_map='auto')\n",
    "tokenizer = AutoTokenizer.from_pretrained('google/flan-t5-xl')\n",
    "model_name = 'google/flan-t5-xl'"
   ]
  },
  {
   "cell_type": "code",
   "execution_count": 4,
   "id": "ee8eca82-a11e-4131-801a-5f1dfabcffb4",
   "metadata": {},
   "outputs": [],
   "source": [
    "#IMPORT DEFINTIONS - STEP 1\n",
    "def_step_1 = {  \"NO\":\"\",\n",
    "                \"MHS\":\"Hate Speech defined as, bias-motivated, hostile and malicious language targeted at a person/group because of their actual or perceived innate characteristics, especially when the group is unnecessarily labeled\",\n",
    "                \"OL\":\"Hate Speech is considered any kind of content that conveys malevolent intentions toward a group or an individual.\",\n",
    "                \"HSB\":\"Hate speech is considered any kind of content that conveys malevolent intentions toward a group or an individual, and motivated by inherent characteristics that are attributed to that group and shared among its members.\",\n",
    "                \"HSB_EDFoC\":\"Hate speech is considered any kind of content or communication expressed using language (written or spoken) or actions,  that convey malevolent intentions toward a group or an individual, and motivated by inherent characteristics that are attributed to that group and shared among its members.\",\n",
    "                \"HSB_EDPC\":\"Hate speech is considered any kind of content that conveys malevolent intentions such as statements of inferiority, aversion, cursing, calls for exclusion, threaten, harass or violence, toward a group or an individual, and motivated by inherent characteristics that are attributed to that group and shared among its members.\",\n",
    "                \"HSB_EDT\":\"Hate speech is considered any kind of content that conveys malevolent intentions toward a group or an individual which is, or thought to be, a member of that group, and motivated by inherent characteristics that are attributed to that group and shared among its members.\",\n",
    "                \"HSB_EDFoC_EDT\":\"Hate speech is considered any kind of content or communication expressed using language (written or spoken) or actions,  that convey malevolent intentions toward a group or an individual which is, or thought to be, a member of that group, and motivated by inherent characteristics that are attributed to that group and shared among its members.\",\n",
    "                \"HSB_EDFoC_EDPC\":\"Hate speech is considered any kind of content or communication expressed using language (written or spoken) or actions, that convey malevolent intentions such as statements of inferiority, aversion, cursing, calls for exclusion, threaten, harass or violence, toward a group or an individual and motivated by inherent characteristics that are attributed to that group and shared among its members.\",\n",
    "                \"HSB_EDT_EDPC\":\"Hate speech is considered any kind of content that conveys malevolent intentions such as statements of inferiority, aversion, cursing, calls for exclusion, threaten, harass or violence, toward a group or an individual which is, or thought to be, a member of that group, and motivated by inherent characteristics that are attributed to that group and shared among its members.\",\n",
    "                \"HSB_EDFoC_EDPC_EDT\":\"Hate speech is considered any kind of content or communication expressed using language (written or spoken) or actions,  that conveys malevolent intentions such as statements of inferiority, aversion, cursing, calls for exclusion, threaten, harass or violence, toward a group or an individual which is, or thought to be, a member of that group, and motivated by inherent characteristics that are attributed to that group and shared among its members.\"\n",
    "                }\n",
    "\n",
    "def_step_2 = {\"HSB_EDT_LAA\":\"Hate speech is considered any kind of content that conveys malevolent intentions toward a group or an individual which is, or thought to be, a member of that group, and motivated by inherent characteristics that are attributed to that group and shared among its members such as race, color, ethnicity, gender, sexual orientation, nationality, religion, disability, social status, health conditions, or other characteristics.\",\n",
    "            \"HSB_EDT_LAA_PI\":\"Hate speech is considered any kind of content that conveys malevolent intentions toward a group or an individual which is, or thought to be, a member of that group, and motivated by inherent characteristics that are attributed to that group and shared among its members such as race, color, ethnicity, gender, sexual orientation, nationality, religion, disability, social status, health conditions, or other characteristics. The outcome of Hate Speech could be the promotion of division among people, undermining of social cohesion in communities, inciting others to commit violence or discrimination, and could have consequences for individuals’ health and safety.\",\n",
    "            \"HSB_EDT_LAA_Exc\":\"Hate speech is considered any kind of content that conveys malevolent intentions toward a group or an individual which is, or thought to be, a member of that group, and motivated by inherent characteristics that are attributed to that group and shared among its members such as race, color, ethnicity, gender, sexual orientation, nationality, religion, disability, social status, health conditions, or other characteristics. However, even if it is offensive, it is not considered Hate Speech any content that attacks a person’s personality traits, ideas, or opinions\",\n",
    "            \"HSB_EDT_LAA_IHS\":\"Hate speech is considered any kind of content that conveys malevolent intentions toward a group or an individual which is, or thought to be, a member of that group, and motivated by inherent characteristics that are attributed to that group and shared among its members such as race, color, ethnicity, gender, sexual orientation, nationality, religion, disability, social status, health conditions, or other characteristics. Hate Speech can also be implicit, portrayed as an indirect or coded language that uses Irony, Stereotypes, or Misinformation.\",\n",
    "            \"HSB_EDT_LAA_PI_Exc\":\"Hate speech is considered any kind of content that conveys malevolent intentions toward a group or an individual which is, or thought to be, a member of that group, and motivated by inherent characteristics that are attributed to that group and shared among its members such as race, color, ethnicity, gender, sexual orientation, nationality, religion, disability, social status, health conditions, or other characteristics. The outcome of Hate Speech could be the promotion of division among people, undermining of social cohesion in communities, inciting others to commit violence or discrimination, and could have consequences for individuals’ health and safety. However, even if it is offensive, it is not considered Hate Speech any content that attacks a person’s personality traits, ideas, or opinions.\",\n",
    "            \"HSB_EDT_LAA_Exc_IHS\":\"Hate speech is considered any kind of content that conveys malevolent intentions toward a group or an individual which is, or thought to be, a member of that group, and motivated by inherent characteristics that are attributed to that group and shared among its members such as race, color, ethnicity, gender, sexual orientation, nationality, religion, disability, social status, health conditions, or other characteristics. Hate Speech can also be implicit, portrayed as an indirect or coded language that uses Irony, Stereotypes, or Misinformation. However, even if it is offensive, it is not considered Hate Speech any content that attacks a person’s personality traits, ideas, or opinions.\",\n",
    "            \"HSB_EDT_LAA_PI_IHS\":\"Hate speech is considered any kind of content that conveys malevolent intentions toward a group or an individual which is, or thought to be, a member of that group, and motivated by inherent characteristics that are attributed to that group and shared among its members such as race, color, ethnicity, gender, sexual orientation, nationality, religion, disability, social status, health conditions, or other characteristics. The outcome of Hate Speech could be the promotion of division among people, undermining of social cohesion in communities, inciting others to commit violence or discrimination, and could have consequences for individuals’ health and safety. Hate Speech can also be implicit, portrayed as an indirect or coded language that uses Irony, Stereotypes, or Misinformation.\",\n",
    "            \"HSB_EDT_LAA_PI_IHS_Exc\":\"Hate speech is considered any kind of content that conveys malevolent intentions toward a group or an individual which is, or thought to be, a member of that group, and motivated by inherent characteristics that are attributed to that group and shared among its members such as race, color, ethnicity, gender, sexual orientation, nationality, religion, disability, social status, health conditions, or other characteristics. The outcome of Hate Speech could be the promotion of division among people, undermining of social cohesion in communities, inciting others to commit violence or discrimination, and could have consequences for individuals’ health and safety. Hate Speech can also be implicit, portrayed as an indirect or coded language that uses Irony, Stereotypes, or Misinformation. However, even if it is offensive, it is not considered Hate Speech any content that attacks a person’s personality traits, ideas, or opinions.\"\n",
    "            }"
   ]
  },
  {
   "cell_type": "code",
   "execution_count": 5,
   "id": "7ac840a0-51a0-4b79-becd-ec15de0929e8",
   "metadata": {},
   "outputs": [
    {
     "name": "stderr",
     "output_type": "stream",
     "text": [
      "100%|██████████| 3901/3901 [00:00<00:00, 53725.98it/s]"
     ]
    },
    {
     "name": "stdout",
     "output_type": "stream",
     "text": [
      "Classify if the following text is considered hate speech or not hate speech:\n",
      "Let's send back the white trash to their origins then we can send Ilhan\n",
      "Please answer ONLY with 1 if it is hate speech or 0 if it is not hate speech.\n"
     ]
    },
    {
     "name": "stderr",
     "output_type": "stream",
     "text": [
      "\n"
     ]
    }
   ],
   "source": [
    "model_inputs = []\n",
    "labels = []\n",
    "instructions = \"Classify if the following text is considered hate speech or not hate speech:\\n\"\\\n",
    "              \"[TEXT]\\n\"\\\n",
    "              \"Please answer ONLY with 1 if it is hate speech or 0 if it is not hate speech.\"\n",
    "        \n",
    "\n",
    "for datapoint in tqdm(dataset):\n",
    "    model_input = instructions\n",
    "    model_input = model_input.replace(\"[TEXT]\", datapoint['Text'])\n",
    "    if datapoint['Label'] == 1:\n",
    "        labels.append(1)\n",
    "    else:\n",
    "        labels.append(0)\n",
    "    model_inputs.append(model_input)\n",
    "print(model_inputs[1])"
   ]
  },
  {
   "cell_type": "code",
   "execution_count": 6,
   "id": "5fe7b12e-d5f4-454d-8836-2471f57d7d7a",
   "metadata": {},
   "outputs": [],
   "source": [
    "def metriche(predictions,labels):\n",
    "\n",
    "    predictions = [np.nan if x == 'NaN' else x for x in predictions]\n",
    "\n",
    "    #convert predictions to numpy array to handle NaN values\n",
    "    predictions = np.array(predictions, dtype=float)  \n",
    "\n",
    "    #replace NaN values with a default value (e.g., 0) if needed\n",
    "    predictions[np.isnan(predictions)] = 0  \n",
    "\n",
    "    precision = precision_score(labels, predictions, average='binary', zero_division=0)\n",
    "\n",
    "    recall = recall_score(labels, predictions, average='binary', zero_division=0)\n",
    "\n",
    "    f1 = f1_score(labels, predictions, average='macro', zero_division=0)\n",
    "    \n",
    "    return precision, recall, f1\n",
    "    "
   ]
  },
  {
   "cell_type": "code",
   "execution_count": 7,
   "id": "1bd02218-20fc-4a7e-93da-a01f60b5f1cb",
   "metadata": {},
   "outputs": [],
   "source": [
    "from tqdm import tqdm\n",
    "\n",
    "def runner(model_inputs, labels, num_runs, id_def, definition, sample):\n",
    "    results = []\n",
    "\n",
    "    for j in range(num_runs):  \n",
    "        if sample == 'all' or sample >= 3901:\n",
    "            sample = 3901\n",
    "        else:\n",
    "            model_inputs = model_inputs[:sample]\n",
    "            labels = labels[:sample]\n",
    "    \n",
    "        completions = []\n",
    "        responses = []\n",
    "\n",
    "        system_prompt = ''\n",
    "\n",
    "        model_prompt =  \"[SYSTEM_PROMPT] \\n [USER_MESSAGE] \\n\"\n",
    "\n",
    "        for i, inputtone in enumerate(tqdm(model_inputs)): \n",
    "            if id_def == 'NO':\n",
    "                tot_in = inputtone\n",
    "            else:\n",
    "                tot_in = 'Given the following definition of Hate Speech: \\n' + str(definition) +'\\n' + inputtone \n",
    "\n",
    "            model_in = model_prompt.replace(\"[SYSTEM_PROMPT]\", system_prompt)\n",
    "            model_in = model_in.replace(\"[USER_MESSAGE]\", tot_in)\n",
    "\n",
    "            # Tokenize the input using the tokenizer\n",
    "            input_ids = tokenizer(model_in, return_tensors=\"pt\").input_ids.to(\"cuda\")\n",
    "\n",
    "\n",
    "            # Generate outputs from the model\n",
    "            outputs = model.generate(input_ids,temperature=0.95, do_sample = True)\n",
    "\n",
    "            # Decode the output IDs to text\n",
    "            decoded_output = tokenizer.decode(outputs[0], skip_special_tokens=True)\n",
    "            response = decoded_output\n",
    "            responses.append(response)\n",
    "\n",
    "\n",
    "            predictions = []\n",
    "            for response in responses:\n",
    "                if response == '1':\n",
    "                    predictions.append(1)\n",
    "                elif response == '0':\n",
    "                    predictions.append(0)\n",
    "                else:\n",
    "                    predictions.append('NaN')\n",
    "\n",
    "        num = j+1\n",
    "        print('Run number:', num, 'With definition: ', id_def)     \n",
    "        numeratore = sum(1 for p,l in zip(predictions,labels) if p ==l)\n",
    "        denominatore = len(predictions)\n",
    "        acc = numeratore/denominatore\n",
    "        print('Accuracy: ', acc)\n",
    "        nans = sum(1 for p in predictions if p =='NaN')\n",
    "        print('Numbers of non-answer: ',nans)\n",
    "        if denominatore == nans:\n",
    "            acc_no_nans = 0\n",
    "        else:\n",
    "            acc_no_nans = numeratore/(denominatore-nans)\n",
    "        print('Accuracy without no-answers: ', acc_no_nans)\n",
    "\n",
    "        precision, recall, f1 = metriche(predictions, labels)\n",
    "\n",
    "        results.append({'Run': num,\n",
    "                            'Model': model_name, \n",
    "                            'ID_def': id_def,\n",
    "                            'Accuracy': acc, \n",
    "                            'NaNs': nans, \n",
    "                            'Precision': precision, \n",
    "                            'Recall': recall, \n",
    "                            'F1': f1 ,\n",
    "                            'Input': dataset['Text'],\n",
    "                            'Responses': responses,\n",
    "                            'Predictions': predictions, \n",
    "                            'Labels': labels, \n",
    "                            'Definition': definition})\n",
    "\n",
    "        \n",
    "        print('Accuracy: ', acc)\n",
    "        print('Precision: ', precision)\n",
    "        print('Recall: ', recall)\n",
    "        print('F1 Score: ', f1)\n",
    "        \n",
    "    return results\n",
    "\n"
   ]
  },
  {
   "cell_type": "code",
   "execution_count": null,
   "id": "bf241bdb-d529-4f2c-8070-ec08480215d9",
   "metadata": {},
   "outputs": [],
   "source": [
    "#ALL THE DEFINITIONS\n",
    "sample = 'all' #select a number of samples or \"all\" for the whole dataset\n",
    "num_runs = 3  #number of iterations \n",
    "step = '1' # 1 for step 1, 2 for step 2\n",
    "\n",
    "results = []\n",
    "\n",
    "if step == '1':\n",
    "    def_dict = def_step1\n",
    "    step_name = 'step1'\n",
    "elif step == '2':\n",
    "    def_dict = def_step2\n",
    "    step_name = 'step2'\n",
    "\n",
    "    \n",
    "for k, v in def_dict.items():\n",
    "    def_id = k\n",
    "    definition = v\n",
    "    result = runner(model_inputs, labels, num_runs=num_runs, id_def=def_id, definition=definition, sample=sample)\n",
    "    results.extend(result) "
   ]
  },
  {
   "cell_type": "code",
   "execution_count": 9,
   "id": "c571edd9-483e-4678-a7a5-e2c21707c870",
   "metadata": {},
   "outputs": [],
   "source": [
    "df = pd.DataFrame(results)\n",
    "\n",
    "csv_file_path = '../Outputs/Flant5_mhs_'+ step_name +'.csv'\n",
    "\n",
    "df.to_csv(csv_file_path, index=False)  "
   ]
  },
  {
   "cell_type": "code",
   "execution_count": 10,
   "id": "a30033d2-63b8-461f-936d-1f2729286d70",
   "metadata": {},
   "outputs": [
    {
     "name": "stdout",
     "output_type": "stream",
     "text": [
      "                ID_def        F1\n",
      "6              HSB_EDT  0.755434\n",
      "4        HSB_EDFoC_EDT  0.753827\n",
      "1            HSB_EDFoC  0.752089\n",
      "3   HSB_EDFoC_EDPC_EDT  0.751469\n",
      "2       HSB_EDFoC_EDPC  0.748467\n",
      "8                  MHS  0.747939\n",
      "5             HSB_EDPC  0.747651\n",
      "10                  OL  0.746298\n",
      "7         HSB_EDT_EDPC  0.745792\n",
      "0                  HSB  0.742970\n",
      "9                   NO  0.742132\n"
     ]
    }
   ],
   "source": [
    "import pandas as pd\n",
    "\n",
    "# Specify the path to your CSV file\n",
    "csv_file_path = 'Flant5_mhs_step1.csv'\n",
    "\n",
    "# Read the CSV file into a DataFrame\n",
    "df = pd.read_csv(csv_file_path)\n",
    "\n",
    "# Group the DataFrame by 'id_def' and calculate the mean of 'Accuracy' within each group\n",
    "avg_accuracy_per_id = df.groupby('ID_def')['F1'].mean().reset_index()\n",
    "\n",
    "avg_accuracy_per_id_sorted = avg_accuracy_per_id.sort_values(by='F1', ascending=False)\n",
    "\n",
    "# Display the average accuracy for each id_def\n",
    "print(avg_accuracy_per_id_sorted)"
   ]
  }
 ],
 "metadata": {
  "kernelspec": {
   "display_name": "Python 3 (ipykernel)",
   "language": "python",
   "name": "python3"
  },
  "language_info": {
   "codemirror_mode": {
    "name": "ipython",
    "version": 3
   },
   "file_extension": ".py",
   "mimetype": "text/x-python",
   "name": "python",
   "nbconvert_exporter": "python",
   "pygments_lexer": "ipython3",
   "version": "3.11.11"
  }
 },
 "nbformat": 4,
 "nbformat_minor": 5
}
