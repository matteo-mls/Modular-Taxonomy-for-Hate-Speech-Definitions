{
 "cells": [
  {
   "cell_type": "code",
   "execution_count": 1,
   "id": "6ca43074-d578-4482-8595-630f612f7d33",
   "metadata": {
    "tags": []
   },
   "outputs": [
    {
     "name": "stderr",
     "output_type": "stream",
     "text": [
      "2025-01-17 11:26:02.422009: E external/local_xla/xla/stream_executor/cuda/cuda_fft.cc:477] Unable to register cuFFT factory: Attempting to register factory for plugin cuFFT when one has already been registered\n",
      "WARNING: All log messages before absl::InitializeLog() is called are written to STDERR\n",
      "E0000 00:00:1737113162.436485     578 cuda_dnn.cc:8310] Unable to register cuDNN factory: Attempting to register factory for plugin cuDNN when one has already been registered\n",
      "E0000 00:00:1737113162.440881     578 cuda_blas.cc:1418] Unable to register cuBLAS factory: Attempting to register factory for plugin cuBLAS when one has already been registered\n",
      "2025-01-17 11:26:02.458652: I tensorflow/core/platform/cpu_feature_guard.cc:210] This TensorFlow binary is optimized to use available CPU instructions in performance-critical operations.\n",
      "To enable the following instructions: AVX2 FMA, in other operations, rebuild TensorFlow with the appropriate compiler flags.\n"
     ]
    }
   ],
   "source": [
    "import pandas as pd\n",
    "import torch\n",
    "import gc\n",
    "from numba import cuda\n",
    "from tqdm import tqdm\n",
    "import json\n",
    "from datasets import Dataset\n",
    "import sys\n",
    "import re\n",
    "import numpy as np\n",
    "from sklearn.metrics import precision_score, recall_score, f1_score\n",
    "import random\n",
    "import outlines\n",
    "\n",
    "from transformers import AutoTokenizer\n",
    "from transformers import TrainingArguments, Trainer\n",
    "from transformers import TextClassificationPipeline\n",
    "from transformers import AutoTokenizer,AutoModelForSequenceClassification\n",
    "from transformers import TrainingArguments\n",
    "from transformers import AutoModelForCausalLM\n",
    "from transformers import AutoModelForSeq2SeqLM\n",
    "from transformers import Seq2SeqTrainer, Seq2SeqTrainingArguments\n",
    "from transformers import pipeline as transformers_pipeline\n",
    "\n"
   ]
  },
  {
   "cell_type": "code",
   "execution_count": null,
   "id": "02ee5eac-88df-4ae8-8d1f-e7c4cfadb42f",
   "metadata": {
    "tags": []
   },
   "outputs": [
    {
     "name": "stdout",
     "output_type": "stream",
     "text": [
      "Dataset({\n",
      "    features: ['Unnamed: 0.1', 'Unnamed: 0', 'text', 'label', 'target', 'type'],\n",
      "    num_rows: 3901\n",
      "})\n"
     ]
    }
   ],
   "source": [
    "#IMPORT AND PREPARE DATASET\n",
    "\n",
    "path = '' # Specify the path to your dataset file\n",
    "ds = pd.read_csv(path)\n",
    "\n",
    "dataset = Dataset.from_pandas(ds)\n",
    "print(dataset)\n"
   ]
  },
  {
   "cell_type": "code",
   "execution_count": null,
   "id": "898df6de-b398-4e08-86b9-c466aa2efab9",
   "metadata": {
    "tags": []
   },
   "outputs": [
    {
     "data": {
      "application/vnd.jupyter.widget-view+json": {
       "model_id": "9596ff9417464b1093988bf1a41fb353",
       "version_major": 2,
       "version_minor": 0
      },
      "text/plain": [
       "Loading checkpoint shards:   0%|          | 0/3 [00:00<?, ?it/s]"
      ]
     },
     "metadata": {},
     "output_type": "display_data"
    }
   ],
   "source": [
    "hf_token = \"\"\n",
    "model_name = \"mistralai/Mistral-7B-Instruct-v0.2\"\n",
    "model = outlines.models.transformers(\"mistralai/Mistral-7B-Instruct-v0.2\",device=\"auto\")\n",
    "tokenizer = AutoTokenizer.from_pretrained(model_name, token=hf_token)\n"
   ]
  },
  {
   "cell_type": "code",
   "execution_count": 4,
   "id": "158df0f2-306f-4c37-a0da-d8dacf4d517c",
   "metadata": {
    "tags": []
   },
   "outputs": [],
   "source": [
    "#IMPORT DEFINTIONS - STEP 1\n",
    "def_step_1 = {  \"NO\":\"\",\n",
    "                \"FtW\":\"Hate is defined as abusive speech targeting specific group characteristics, such as ethnic origin, religion, gender, or sexual orientation.\",\n",
    "                \"OL\":\"Hate Speech is considered any kind of content that conveys malevolent intentions toward a group or an individual.\",\n",
    "                \"HSB\":\"Hate speech is considered any kind of content that conveys malevolent intentions toward a group or an individual, and motivated by inherent characteristics that are attributed to that group and shared among its members.\",\n",
    "                \"HSB_EDFoC\":\"Hate speech is considered any kind of content or communication expressed using language (written or spoken) or actions,  that convey malevolent intentions toward a group or an individual, and motivated by inherent characteristics that are attributed to that group and shared among its members.\",\n",
    "                \"HSB_EDPC\":\"Hate speech is considered any kind of content that conveys malevolent intentions such as statements of inferiority, aversion, cursing, calls for exclusion, threaten, harass or violence, and directed toward a group or an individual, and motivated by inherent characteristics that are attributed to that group and shared among its members.\",\n",
    "                \"HSB_EDT\":\"Hate speech is considered any kind of content that conveys malevolent intentions toward a group or an individual which is, or thought to be, a member of that group, and motivated by inherent characteristics that are attributed to that group and shared among its members.\",\n",
    "                \"HSB_EDFoC_EDT\":\"Hate speech is considered any kind of content or communication expressed using language (written or spoken) or actions,  that convey malevolent intentions toward a group or an individual which is, or thought to be, a member of that group, and motivated by inherent characteristics that are attributed to that group and shared among its members.\",\n",
    "                \"HSB_EDFoC_EDPC\":\"Hate speech is considered any kind of content or communication expressed using language (written or spoken) or actions, that convey malevolent intentions such as statements of inferiority, aversion, cursing, calls for exclusion, threaten, harass or violence, and directed toward a group or an individual and motivated by inherent characteristics that are attributed to that group and shared among its members.\",\n",
    "                \"HSB_EDT_EDPC\":\"Hate speech is considered any kind of content that conveys malevolent intentions such as statements of inferiority, aversion, cursing, calls for exclusion, threaten, harass or violence, toward a group or an individual which is, or thought to be, a member of that group, and motivated by inherent characteristics that are attributed to that group and shared among its members.\",\n",
    "                \"HSB_EDFoC_EDPC_EDT\":\"Hate speech is considered any kind of content or communication expressed using language (written or spoken) or actions,  that conveys malevolent intentions such as statements of inferiority, aversion, cursing, calls for exclusion, threaten, harass or violence, toward a group or an individual which is, or thought to be, a member of that group, and motivated by inherent characteristics that are attributed to that group and shared among its members.\"\n",
    "                }\n",
    "\n",
    "def_step_2 = {\"HSB_EDFoC_LAA\":\"Hate speech is considered any kind of content or communication expressed using language (written or spoken) or actions, that convey malevolent intentions toward a group or an individual, and motivated by inherent characteristics that are attributed to that group and shared among its members such as race, color, ethnicity, gender, sexual orientation, nationality, religion, disability, social status, health conditions, or other characteristics. \",\n",
    "             \"HSB_EDFoC_LAA_PI\":\"Hate speech is considered any kind of content or communication expressed using language (written or spoken) or actions, that convey malevolent intentions toward a group or an individual, and motivated by inherent characteristics that are attributed to that group and shared among its members such as race, color, ethnicity, gender, sexual orientation, nationality, religion, disability, social status, health conditions, or other characteristics. The outcome of Hate Speech could be the promotion of division among people, undermining of social cohesion in communities, inciting others to commit violence or discrimination, and could have consequences for individuals’ health and safety.\",\n",
    "             \"HSB_EDFoC_LAA_Exc\":\"Hate speech is considered any kind of content or communication expressed using language (written or spoken) or actions, that convey malevolent intentions toward a group or an individual, and motivated by inherent characteristics that are attributed to that group and shared among its members such as race, color, ethnicity, gender, sexual orientation, nationality, religion, disability, social status, health conditions, or other characteristics. However, even if it is offensive, it is not considered Hate Speech any content that attacks a person’s personality traits, ideas, or opinions\",\n",
    "             \"HSB_EDFoC_LAA_IHS\":\"Hate speech is considered any kind of content or communication expressed using language (written or spoken) or actions, that convey malevolent intentions toward a group or an individual, and motivated by inherent characteristics that are attributed to that group and shared among its members such as race, color, ethnicity, gender, sexual orientation, nationality, religion, disability, social status, health conditions, or other characteristics. Hate Speech can also be implicit, portrayed as an indirect or coded language that uses Irony, Stereotypes, or Misinformation. \",\n",
    "             \"HSB_EDFoC_LAA_PI_Exc\":\"Hate speech is considered any kind of content or communication expressed using language (written or spoken) or actions, that convey malevolent intentions toward a group or an individual, and motivated by inherent characteristics that are attributed to that group and shared among its members such as race, color, ethnicity, gender, sexual orientation, nationality, religion, disability, social status, health conditions, or other characteristics. The outcome of Hate Speech could be the promotion of division among people, undermining of social cohesion in communities, inciting others to commit violence or discrimination, and could have consequences for individuals’ health and safety. However, even if it is offensive, it is not considered Hate Speech any content that attacks a person’s personality traits, ideas, or opinions.\",\n",
    "             \"HSB_EDFoC_LAA_Exc_IHS\":\"Hate speech is considered any kind of content or communication expressed using language (written or spoken) or actions, that convey malevolent intentions toward a group or an individual, and motivated by inherent characteristics that are attributed to that group and shared among its members such as race, color, ethnicity, gender, sexual orientation, nationality, religion, disability, social status, health conditions, or other characteristics. Hate Speech can also be implicit, portrayed as an indirect or coded language that uses Irony, Stereotypes, or Misinformation. However, even if it is offensive, it is not considered Hate Speech any content that attacks a person’s personality traits, ideas, or opinions. \",\n",
    "             \"HSB_EDFoC_LAA_PI_IHS\":\"Hate speech is considered any kind of content or communication expressed using language (written or spoken) or actions, that convey malevolent intentions toward a group or an individual, and motivated by inherent characteristics that are attributed to that group and shared among its members such as race, color, ethnicity, gender, sexual orientation, nationality, religion, disability, social status, health conditions, or other characteristics. The outcome of Hate Speech could be the promotion of division among people, undermining of social cohesion in communities, inciting others to commit violence or discrimination, and could have consequences for individuals’ health and safety. Hate Speech can also be implicit, portrayed as an indirect or coded language that uses Irony, Stereotypes, or Misinformation. \",\n",
    "             \"HSB_EDFoC_LAA_PI_IHS_Exc\":\"Hate speech is considered any kind of content or communication expressed using language (written or spoken) or actions, that convey malevolent intentions toward a group or an individual, and motivated by inherent characteristics that are attributed to that group and shared among its members such as race, color, ethnicity, gender, sexual orientation, nationality, religion, disability, social status, health conditions, or other characteristics. The outcome of Hate Speech could be the promotion of division among people, undermining of social cohesion in communities, inciting others to commit violence or discrimination, and could have consequences for individuals’ health and safety. Hate Speech can also be implicit, portrayed as an indirect or coded language that uses Irony, Stereotypes, or Misinformation. However, even if it is offensive, it is not considered Hate Speech any content that attacks a person’s personality traits, ideas, or opinions.\"\n",
    "}\n",
    "\n",
    "def_step_3 = {\n",
    "                \"FtW+\":\"\"\n",
    "}"
   ]
  },
  {
   "cell_type": "code",
   "execution_count": 5,
   "id": "35135350-b865-43c9-a03e-c178e44a223f",
   "metadata": {
    "tags": []
   },
   "outputs": [
    {
     "name": "stderr",
     "output_type": "stream",
     "text": [
      "100%|██████████| 3901/3901 [00:00<00:00, 18730.14it/s]"
     ]
    },
    {
     "name": "stdout",
     "output_type": "stream",
     "text": [
      "Classify if the following text is considered hate speech or not hate speech:\n",
      "pitbulls are one of the most vicious breeds, they should be banned\n",
      "Please answer ONLY with 1 if it is hate speech or 0 if it is not hate speech.\n"
     ]
    },
    {
     "name": "stderr",
     "output_type": "stream",
     "text": [
      "\n"
     ]
    }
   ],
   "source": [
    "dataset = dataset.shuffle()\n",
    "\n",
    "model_inputs = []\n",
    "labels = []\n",
    "\n",
    "\n",
    "instructions = \"Classify if the following text is considered hate speech or not hate speech:\\n\"\\\n",
    "              \"[TEXT]\\n\"\\\n",
    "              \"Please answer ONLY with 1 if it is hate speech or 0 if it is not hate speech.\"\n",
    "\n",
    "for datapoint in tqdm(dataset):\n",
    "    model_input = instructions\n",
    "    model_input = model_input.replace(\"[TEXT]\", datapoint['text'])\n",
    "    \n",
    "    if datapoint['label'] == 'hate':\n",
    "        labels.append(1)\n",
    "    else:\n",
    "        labels.append(0)\n",
    "    model_inputs.append(model_input)\n",
    "print(model_inputs[1])\n"
   ]
  },
  {
   "cell_type": "code",
   "execution_count": 6,
   "id": "e8bd460c-e743-4cc9-8e89-800747203474",
   "metadata": {
    "tags": []
   },
   "outputs": [],
   "source": [
    "def metriche(predictions,labels):\n",
    "\n",
    "    # Calculate precision (handling NaN appropriately)\n",
    "    precision = precision_score(labels, predictions, average='binary', zero_division=0)\n",
    "\n",
    "    # Calculate recall (handling NaN appropriately)\n",
    "    recall = recall_score(labels, predictions, average='binary', zero_division=0)\n",
    "\n",
    "    # Calculate F1 score (handling NaN appropriately)\n",
    "    f1 = f1_score(labels, predictions, average='macro', zero_division=0)\n",
    "    \n",
    "    return precision, recall, f1\n",
    "    "
   ]
  },
  {
   "cell_type": "code",
   "execution_count": 7,
   "id": "5bdff058-220a-4bba-b297-802316552c3c",
   "metadata": {
    "tags": []
   },
   "outputs": [],
   "source": [
    "def runner(model_inputs, labels, num_runs, id_def, definition, sample):\n",
    "    results = []\n",
    "\n",
    "    for j in range(num_runs):  \n",
    "        if sample == 'all' or sample >= 3901:\n",
    "            sample = 3901\n",
    "        else:\n",
    "            model_inputs = model_inputs[:sample]\n",
    "            labels = labels[:sample]\n",
    "\n",
    "        completions = []\n",
    "        responses = []\n",
    "        predictions = []\n",
    "        system_prompt = ''\n",
    "        model_prompt = \"<s>[INST] [SYSTEM_PROMPT] [USER_MESSAGE] [/INST]\" #mistral\n",
    "\n",
    "        \n",
    "        \n",
    "\n",
    "        for i, inputtone in enumerate(tqdm(model_inputs)): \n",
    "            if id_def == 'NO':\n",
    "                tot_in = inputtone\n",
    "            else:\n",
    "                tot_in = 'Given the following definition of Hate Speech: \\n' + str(definition) +'\\n' + inputtone\n",
    "\n",
    "            model_in = model_prompt.replace(\"[SYSTEM_PROMPT]\", system_prompt)\n",
    "            model_in = model_in.replace(\"[USER_MESSAGE]\", tot_in)\n",
    "\n",
    "            # Pass the temperature parameter to the generator\n",
    "            generator = outlines.generate.choice(model, [\"1\", \"0\"])\n",
    "            answer = generator(model_in, max_tokens=3)\n",
    "\n",
    "            predictions.append(int(answer))\n",
    "\n",
    "        num = j+1\n",
    "        print('Run number:', num, 'With definition: ', id_def)     \n",
    "        numeratore = sum(1 for p,l in zip(predictions,labels) if str(p) == str(l))\n",
    "        denominatore = len(predictions)\n",
    "        acc = numeratore/denominatore\n",
    "        precision, recall, f1 = metriche(predictions, labels)\n",
    "        print('Accuracy: ',acc)\n",
    "\n",
    "\n",
    "        precision, recall, f1 = metriche(predictions, labels)\n",
    "\n",
    "        print('Precision: ', precision)\n",
    "        print('Recall: ', recall)\n",
    "        print('F1 Score: ', f1)\n",
    "        \n",
    "        results.append({'Run': num,\n",
    "                        'Model': model_name, \n",
    "                        'ID_def': id_def,\n",
    "                        'Accuracy': acc, \n",
    "                        'Precision': precision, \n",
    "                        'Recall': recall, \n",
    "                        'F1': f1 ,\n",
    "                        'Input': dataset['text'],\n",
    "                        'Predictions': predictions, \n",
    "                        'Labels': labels, \n",
    "                        'Definition': definition,\n",
    "                        'Target': dataset['target'],\n",
    "                        'Type': dataset['type']})\n",
    "                \n",
    "    return results\n"
   ]
  },
  {
   "cell_type": "code",
   "execution_count": 8,
   "id": "ca09d5b2-6620-4320-b8d2-c021516e3095",
   "metadata": {
    "tags": []
   },
   "outputs": [
    {
     "name": "stderr",
     "output_type": "stream",
     "text": [
      "100%|██████████| 3901/3901 [26:05<00:00,  2.49it/s]\n"
     ]
    },
    {
     "name": "stdout",
     "output_type": "stream",
     "text": [
      "Run number: 1 With definition:  FtW+\n",
      "Accuracy:  0.5452448090233274\n",
      "Precision:  0.9116279069767442\n",
      "Recall:  0.3685596088755171\n",
      "F1 Score:  0.5444098688655998\n"
     ]
    },
    {
     "name": "stderr",
     "output_type": "stream",
     "text": [
      "100%|██████████| 3901/3901 [26:03<00:00,  2.49it/s]\n"
     ]
    },
    {
     "name": "stdout",
     "output_type": "stream",
     "text": [
      "Run number: 2 With definition:  FtW+\n",
      "Accuracy:  0.5419123301717508\n",
      "Precision:  0.9067164179104478\n",
      "Recall:  0.36555095900714557\n",
      "F1 Score:  0.5410407244079081\n"
     ]
    },
    {
     "name": "stderr",
     "output_type": "stream",
     "text": [
      "100%|██████████| 3901/3901 [26:04<00:00,  2.49it/s]"
     ]
    },
    {
     "name": "stdout",
     "output_type": "stream",
     "text": [
      "Run number: 3 With definition:  FtW+\n",
      "Accuracy:  0.5411432965906178\n",
      "Precision:  0.9056956115779645\n",
      "Recall:  0.36479879654005265\n",
      "F1 Score:  0.5402599061398843\n"
     ]
    },
    {
     "name": "stderr",
     "output_type": "stream",
     "text": [
      "\n"
     ]
    }
   ],
   "source": [
    "#ALL THE DEFINITIONS\n",
    "sample = 'all'\n",
    "num_runs = 3\n",
    "def_id = None\n",
    "definition = None\n",
    "step = '+'\n",
    "\n",
    "results = []\n",
    "\n",
    "if step == '1':\n",
    "    def_dict = def_step_1\n",
    "elif step == '2':\n",
    "    def_dict = def_step_2\n",
    "else:\n",
    "    pass\n",
    "\n",
    "for k, v in def_step_3.items():\n",
    "    def_id = k\n",
    "    definition = v\n",
    "    result = runner(model_inputs, labels, num_runs=num_runs, id_def=def_id, definition=definition, sample=sample)\n",
    "    results.extend(result) "
   ]
  },
  {
   "cell_type": "code",
   "execution_count": 9,
   "id": "e33c6940-9c44-4ed1-b121-1a7f52d38fee",
   "metadata": {
    "tags": []
   },
   "outputs": [],
   "source": [
    "#CREATE DF AND SAVE\n",
    "df = pd.DataFrame(results)\n",
    "\n",
    "csv_file_path = '../Outputs/Mistral_FtW_step'+ str(step) +'.csv'\n",
    "\n",
    "# Save the DataFrame to a CSV file\n",
    "df.to_csv(csv_file_path, index=False)  # Set index=False to exclude row numbers in the CSV file\n"
   ]
  },
  {
   "cell_type": "code",
   "execution_count": 1,
   "id": "5be5ef2e-34f1-4f94-9d49-b52be2dfbd23",
   "metadata": {},
   "outputs": [
    {
     "name": "stdout",
     "output_type": "stream",
     "text": [
      "                ID_def        F1\n",
      "10                  OL  0.572844\n",
      "9                   NO  0.560452\n",
      "2            HSB_EDFoC  0.558150\n",
      "1                  HSB  0.557785\n",
      "3       HSB_EDFoC_EDPC  0.550438\n",
      "5        HSB_EDFoC_EDT  0.547773\n",
      "6             HSB_EDPC  0.547229\n",
      "7              HSB_EDT  0.541856\n",
      "0                  FtW  0.538306\n",
      "4   HSB_EDFoC_EDPC_EDT  0.534558\n",
      "8         HSB_EDT_EDPC  0.531683\n"
     ]
    }
   ],
   "source": [
    "import pandas as pd\n",
    "\n",
    "# Specify the path to your CSV file\n",
    "csv_file_path = '../Outputs/Mistral_FtW_step1.csv'\n",
    "\n",
    "# Read the CSV file into a DataFrame\n",
    "df = pd.read_csv(csv_file_path)\n",
    "\n",
    "# Group the DataFrame by 'id_def' and calculate the mean of 'Accuracy' within each group\n",
    "avg_accuracy_per_id = df.groupby('ID_def')['F1'].mean().reset_index()\n",
    "\n",
    "avg_accuracy_per_id_sorted = avg_accuracy_per_id.sort_values(by='F1', ascending=False)\n",
    "\n",
    "# Display the average accuracy for each id_def\n",
    "print(avg_accuracy_per_id_sorted)\n"
   ]
  },
  {
   "cell_type": "code",
   "execution_count": 3,
   "id": "41948fc6-a6b4-477b-be14-d5d9a8e361f8",
   "metadata": {},
   "outputs": [
    {
     "name": "stdout",
     "output_type": "stream",
     "text": [
      "                ID_def  Accuracy\n",
      "10                  OL  0.572930\n",
      "9                   NO  0.560455\n",
      "2            HSB_EDFoC  0.558233\n",
      "1                  HSB  0.557891\n",
      "3       HSB_EDFoC_EDPC  0.550713\n",
      "5        HSB_EDFoC_EDT  0.548235\n",
      "6             HSB_EDPC  0.547552\n",
      "7              HSB_EDT  0.542425\n",
      "0                  FtW  0.539263\n",
      "4   HSB_EDFoC_EDPC_EDT  0.535504\n",
      "8         HSB_EDT_EDPC  0.532769\n"
     ]
    }
   ],
   "source": [
    "# Group the DataFrame by 'id_def' and calculate the mean of 'Accuracy' within each group\n",
    "avg_accuracy_per_id = df.groupby('ID_def')['Accuracy'].mean().reset_index()\n",
    "\n",
    "avg_accuracy_per_id_sorted = avg_accuracy_per_id.sort_values(by='Accuracy', ascending=False)\n",
    "\n",
    "# Display the average accuracy for each id_def\n",
    "print(avg_accuracy_per_id_sorted)"
   ]
  },
  {
   "cell_type": "code",
   "execution_count": 4,
   "id": "879f6e91-737f-465f-914a-aab5bfe100b8",
   "metadata": {},
   "outputs": [
    {
     "name": "stdout",
     "output_type": "stream",
     "text": [
      "                ID_def  Precision\n",
      "0                  FtW   0.904788\n",
      "5        HSB_EDFoC_EDT   0.901256\n",
      "4   HSB_EDFoC_EDPC_EDT   0.897153\n",
      "8         HSB_EDT_EDPC   0.896588\n",
      "7              HSB_EDT   0.895591\n",
      "3       HSB_EDFoC_EDPC   0.895545\n",
      "1                  HSB   0.895347\n",
      "2            HSB_EDFoC   0.893470\n",
      "6             HSB_EDPC   0.892795\n",
      "10                  OL   0.883030\n",
      "9                   NO   0.881917\n"
     ]
    }
   ],
   "source": [
    "# Group the DataFrame by 'id_def' and calculate the mean of 'Accuracy' within each group\n",
    "avg_accuracy_per_id = df.groupby('ID_def')['Precision'].mean().reset_index()\n",
    "\n",
    "avg_accuracy_per_id_sorted = avg_accuracy_per_id.sort_values(by='Precision', ascending=False)\n",
    "\n",
    "# Display the average accuracy for each id_def\n",
    "print(avg_accuracy_per_id_sorted)"
   ]
  },
  {
   "cell_type": "code",
   "execution_count": 7,
   "id": "a604ad18-131a-4a5d-b7a8-0b1ce5a9f2fe",
   "metadata": {},
   "outputs": [
    {
     "name": "stdout",
     "output_type": "stream",
     "text": [
      "                ID_def    Recall\n",
      "10                  OL  0.430488\n",
      "9                   NO  0.410054\n",
      "2            HSB_EDFoC  0.399524\n",
      "1                  HSB  0.397894\n",
      "3       HSB_EDFoC_EDPC  0.385859\n",
      "6             HSB_EDPC  0.382099\n",
      "5        HSB_EDFoC_EDT  0.378714\n",
      "7              HSB_EDT  0.372070\n",
      "0                  FtW  0.362166\n",
      "4   HSB_EDFoC_EDPC_EDT  0.359784\n",
      "8         HSB_EDT_EDPC  0.355522\n"
     ]
    }
   ],
   "source": [
    "# Group the DataFrame by 'id_def' and calculate the mean of 'Accuracy' within each group\n",
    "avg_accuracy_per_id = df.groupby('ID_def')['Recall'].mean().reset_index()\n",
    "\n",
    "avg_accuracy_per_id_sorted = avg_accuracy_per_id.sort_values(by='Recall', ascending=False)\n",
    "\n",
    "# Display the average accuracy for each id_def\n",
    "print(avg_accuracy_per_id_sorted)"
   ]
  },
  {
   "cell_type": "code",
   "execution_count": null,
   "id": "9ca688d8-7671-4a23-879f-0ae024de049c",
   "metadata": {},
   "outputs": [],
   "source": []
  }
 ],
 "metadata": {
  "kernelspec": {
   "display_name": "Python 3 (ipykernel)",
   "language": "python",
   "name": "python3"
  },
  "language_info": {
   "codemirror_mode": {
    "name": "ipython",
    "version": 3
   },
   "file_extension": ".py",
   "mimetype": "text/x-python",
   "name": "python",
   "nbconvert_exporter": "python",
   "pygments_lexer": "ipython3",
   "version": "3.11.11"
  },
  "vscode": {
   "interpreter": {
    "hash": "65037a40e934b14503404e412a10b71c3933ce023a0cd46a7e5dc61bdd2dc8b6"
   }
  }
 },
 "nbformat": 4,
 "nbformat_minor": 5
}
